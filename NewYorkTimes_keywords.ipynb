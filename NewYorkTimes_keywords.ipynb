{
 "cells": [
  {
   "cell_type": "code",
   "execution_count": 6,
   "metadata": {},
   "outputs": [],
   "source": [
    "import pandas as pd"
   ]
  },
  {
   "cell_type": "code",
   "execution_count": 25,
   "metadata": {},
   "outputs": [],
   "source": [
    "nyt = pd.read_json(\"nytac_100.json\")"
   ]
  },
  {
   "cell_type": "code",
   "execution_count": 26,
   "metadata": {},
   "outputs": [
    {
     "data": {
      "text/html": [
       "<div>\n",
       "<style scoped>\n",
       "    .dataframe tbody tr th:only-of-type {\n",
       "        vertical-align: middle;\n",
       "    }\n",
       "\n",
       "    .dataframe tbody tr th {\n",
       "        vertical-align: top;\n",
       "    }\n",
       "\n",
       "    .dataframe thead th {\n",
       "        text-align: right;\n",
       "    }\n",
       "</style>\n",
       "<table border=\"1\" class=\"dataframe\">\n",
       "  <thead>\n",
       "    <tr style=\"text-align: right;\">\n",
       "      <th></th>\n",
       "      <th>title</th>\n",
       "      <th>day</th>\n",
       "      <th>month</th>\n",
       "      <th>year</th>\n",
       "      <th>weekday</th>\n",
       "      <th>desk</th>\n",
       "      <th>page</th>\n",
       "      <th>section</th>\n",
       "      <th>column</th>\n",
       "      <th>online_section</th>\n",
       "      <th>...</th>\n",
       "      <th>sea_levels_COUNT</th>\n",
       "      <th>kyoto_protocol_COUNT</th>\n",
       "      <th>montreal_protocol_COUNT</th>\n",
       "      <th>carbon_footprint_COUNT</th>\n",
       "      <th>carbon_dioxide_COUNT</th>\n",
       "      <th>carbon_neutral_COUNT</th>\n",
       "      <th>emission_trading_COUNT</th>\n",
       "      <th>global_dimming_COUNT</th>\n",
       "      <th>renewable_energy_COUNT</th>\n",
       "      <th>keyword_count</th>\n",
       "    </tr>\n",
       "  </thead>\n",
       "  <tbody>\n",
       "    <tr>\n",
       "      <th>5771</th>\n",
       "      <td>Fighting the Greenhouse Effect</td>\n",
       "      <td>28</td>\n",
       "      <td>8</td>\n",
       "      <td>1988</td>\n",
       "      <td>Sunday</td>\n",
       "      <td>Financial Desk</td>\n",
       "      <td>1.0</td>\n",
       "      <td>3</td>\n",
       "      <td>2.0</td>\n",
       "      <td>Business</td>\n",
       "      <td>...</td>\n",
       "      <td>1</td>\n",
       "      <td>0</td>\n",
       "      <td>0</td>\n",
       "      <td>0</td>\n",
       "      <td>16</td>\n",
       "      <td>0</td>\n",
       "      <td>0</td>\n",
       "      <td>0</td>\n",
       "      <td>0</td>\n",
       "      <td>52</td>\n",
       "    </tr>\n",
       "    <tr>\n",
       "      <th>4436</th>\n",
       "      <td>Carbon Dioxide Rise May Alter Plant Life, Rese...</td>\n",
       "      <td>18</td>\n",
       "      <td>9</td>\n",
       "      <td>1990</td>\n",
       "      <td>Tuesday</td>\n",
       "      <td>Science Desk</td>\n",
       "      <td>1.0</td>\n",
       "      <td>C</td>\n",
       "      <td>1.0</td>\n",
       "      <td>Science; Health</td>\n",
       "      <td>...</td>\n",
       "      <td>0</td>\n",
       "      <td>0</td>\n",
       "      <td>0</td>\n",
       "      <td>0</td>\n",
       "      <td>47</td>\n",
       "      <td>0</td>\n",
       "      <td>0</td>\n",
       "      <td>0</td>\n",
       "      <td>0</td>\n",
       "      <td>48</td>\n",
       "    </tr>\n",
       "    <tr>\n",
       "      <th>9746</th>\n",
       "      <td>Warming of Globe Could Build on Itself, Some S...</td>\n",
       "      <td>19</td>\n",
       "      <td>2</td>\n",
       "      <td>1991</td>\n",
       "      <td>Tuesday</td>\n",
       "      <td>Science Desk</td>\n",
       "      <td>4.0</td>\n",
       "      <td>C</td>\n",
       "      <td>1.0</td>\n",
       "      <td>Science; Health</td>\n",
       "      <td>...</td>\n",
       "      <td>0</td>\n",
       "      <td>0</td>\n",
       "      <td>0</td>\n",
       "      <td>0</td>\n",
       "      <td>36</td>\n",
       "      <td>0</td>\n",
       "      <td>0</td>\n",
       "      <td>0</td>\n",
       "      <td>0</td>\n",
       "      <td>45</td>\n",
       "    </tr>\n",
       "    <tr>\n",
       "      <th>1378</th>\n",
       "      <td>The Cost of an Overheated Planet</td>\n",
       "      <td>12</td>\n",
       "      <td>12</td>\n",
       "      <td>2006</td>\n",
       "      <td>Tuesday</td>\n",
       "      <td>Financial Desk</td>\n",
       "      <td>1.0</td>\n",
       "      <td>C</td>\n",
       "      <td>2.0</td>\n",
       "      <td>Business</td>\n",
       "      <td>...</td>\n",
       "      <td>0</td>\n",
       "      <td>0</td>\n",
       "      <td>0</td>\n",
       "      <td>0</td>\n",
       "      <td>19</td>\n",
       "      <td>0</td>\n",
       "      <td>1</td>\n",
       "      <td>0</td>\n",
       "      <td>0</td>\n",
       "      <td>44</td>\n",
       "    </tr>\n",
       "    <tr>\n",
       "      <th>6123</th>\n",
       "      <td>Major 'Greenhouse' Impact is Unavoidable, Expe...</td>\n",
       "      <td>19</td>\n",
       "      <td>7</td>\n",
       "      <td>1988</td>\n",
       "      <td>Tuesday</td>\n",
       "      <td>Science Desk</td>\n",
       "      <td>1.0</td>\n",
       "      <td>C</td>\n",
       "      <td>1.0</td>\n",
       "      <td>Science; Health</td>\n",
       "      <td>...</td>\n",
       "      <td>0</td>\n",
       "      <td>0</td>\n",
       "      <td>0</td>\n",
       "      <td>0</td>\n",
       "      <td>14</td>\n",
       "      <td>0</td>\n",
       "      <td>0</td>\n",
       "      <td>0</td>\n",
       "      <td>1</td>\n",
       "      <td>42</td>\n",
       "    </tr>\n",
       "  </tbody>\n",
       "</table>\n",
       "<p>5 rows × 74 columns</p>\n",
       "</div>"
      ],
      "text/plain": [
       "                                                  title  day  month  year  \\\n",
       "5771                     Fighting the Greenhouse Effect   28      8  1988   \n",
       "4436  Carbon Dioxide Rise May Alter Plant Life, Rese...   18      9  1990   \n",
       "9746  Warming of Globe Could Build on Itself, Some S...   19      2  1991   \n",
       "1378                   The Cost of an Overheated Planet   12     12  2006   \n",
       "6123  Major 'Greenhouse' Impact is Unavoidable, Expe...   19      7  1988   \n",
       "\n",
       "      weekday            desk  page section  column   online_section  ...  \\\n",
       "5771   Sunday  Financial Desk   1.0       3     2.0         Business  ...   \n",
       "4436  Tuesday    Science Desk   1.0       C     1.0  Science; Health  ...   \n",
       "9746  Tuesday    Science Desk   4.0       C     1.0  Science; Health  ...   \n",
       "1378  Tuesday  Financial Desk   1.0       C     2.0         Business  ...   \n",
       "6123  Tuesday    Science Desk   1.0       C     1.0  Science; Health  ...   \n",
       "\n",
       "     sea_levels_COUNT  kyoto_protocol_COUNT montreal_protocol_COUNT  \\\n",
       "5771                1                     0                       0   \n",
       "4436                0                     0                       0   \n",
       "9746                0                     0                       0   \n",
       "1378                0                     0                       0   \n",
       "6123                0                     0                       0   \n",
       "\n",
       "     carbon_footprint_COUNT carbon_dioxide_COUNT carbon_neutral_COUNT  \\\n",
       "5771                      0                   16                    0   \n",
       "4436                      0                   47                    0   \n",
       "9746                      0                   36                    0   \n",
       "1378                      0                   19                    0   \n",
       "6123                      0                   14                    0   \n",
       "\n",
       "     emission_trading_COUNT global_dimming_COUNT renewable_energy_COUNT  \\\n",
       "5771                      0                    0                      0   \n",
       "4436                      0                    0                      0   \n",
       "9746                      0                    0                      0   \n",
       "1378                      1                    0                      0   \n",
       "6123                      0                    0                      1   \n",
       "\n",
       "     keyword_count  \n",
       "5771            52  \n",
       "4436            48  \n",
       "9746            45  \n",
       "1378            44  \n",
       "6123            42  \n",
       "\n",
       "[5 rows x 74 columns]"
      ]
     },
     "execution_count": 26,
     "metadata": {},
     "output_type": "execute_result"
    }
   ],
   "source": [
    "nyt.head()"
   ]
  },
  {
   "cell_type": "code",
   "execution_count": 30,
   "metadata": {},
   "outputs": [
    {
     "data": {
      "text/plain": [
       "Index(['title', 'day', 'month', 'year', 'weekday', 'desk', 'page', 'section',\n",
       "       'column', 'online_section', 'url', 'word_count', 'author', 'dateline',\n",
       "       'headpar', 'fulltext', 'topics', 'persons', 'locations',\n",
       "       'organisations', 'filename', 'tagged', 'lemmata', 'tagged_title',\n",
       "       'tagged_text', 'lemmata_title', 'lemmata_text', 'letter', 'listings',\n",
       "       'lead', 'summary', 'date', 'with_bigrams', 'climate_change',\n",
       "       'global_warming', 'greenhouse_effect', 'acid_rain', 'ozone_layer',\n",
       "       'greenhouse_gases', 'fossil_fuels', 'greenhouse_emissions',\n",
       "       'ice_shelves', 'ice_sheets', 'rising_sea', 'sea_levels',\n",
       "       'kyoto_protocol', 'montreal_protocol', 'carbon_footprint',\n",
       "       'carbon_dioxide', 'carbon_neutral', 'emission_trading',\n",
       "       'global_dimming', 'renewable_energy', 'climate_change_COUNT',\n",
       "       'global_warming_COUNT', 'greenhouse_effect_COUNT', 'acid_rain_COUNT',\n",
       "       'ozone_layer_COUNT', 'greenhouse_gases_COUNT', 'fossil_fuels_COUNT',\n",
       "       'greenhouse_emissions_COUNT', 'ice_shelves_COUNT', 'ice_sheets_COUNT',\n",
       "       'rising_sea_COUNT', 'sea_levels_COUNT', 'kyoto_protocol_COUNT',\n",
       "       'montreal_protocol_COUNT', 'carbon_footprint_COUNT',\n",
       "       'carbon_dioxide_COUNT', 'carbon_neutral_COUNT',\n",
       "       'emission_trading_COUNT', 'global_dimming_COUNT',\n",
       "       'renewable_energy_COUNT', 'keyword_count'],\n",
       "      dtype='object')"
      ]
     },
     "execution_count": 30,
     "metadata": {},
     "output_type": "execute_result"
    }
   ],
   "source": [
    "nyt.columns"
   ]
  },
  {
   "cell_type": "code",
   "execution_count": 45,
   "metadata": {},
   "outputs": [
    {
     "data": {
      "text/plain": [
       "(74, Index(['climate_change_COUNT', 'global_warming_COUNT',\n",
       "        'greenhouse_effect_COUNT', 'acid_rain_COUNT', 'ozone_layer_COUNT',\n",
       "        'greenhouse_gases_COUNT', 'fossil_fuels_COUNT',\n",
       "        'greenhouse_emissions_COUNT', 'ice_shelves_COUNT', 'ice_sheets_COUNT',\n",
       "        'rising_sea_COUNT', 'sea_levels_COUNT', 'kyoto_protocol_COUNT',\n",
       "        'montreal_protocol_COUNT', 'carbon_footprint_COUNT',\n",
       "        'carbon_dioxide_COUNT', 'carbon_neutral_COUNT',\n",
       "        'emission_trading_COUNT', 'global_dimming_COUNT',\n",
       "        'renewable_energy_COUNT'],\n",
       "       dtype='object'))"
      ]
     },
     "execution_count": 45,
     "metadata": {},
     "output_type": "execute_result"
    }
   ],
   "source": [
    "# extract the relevant count columns\n",
    "len(nyt.columns), nyt.columns[53:-1]"
   ]
  },
  {
   "cell_type": "code",
   "execution_count": 72,
   "metadata": {},
   "outputs": [],
   "source": [
    "# initialize the dict\n",
    "counter = {col:0 for col in nyt.columns[53:-1]}\n",
    "\n",
    "# populate the dict with keyword counts\n",
    "for index, row in nyt.iterrows():\n",
    "    for col in nyt.columns[53:-1]:\n",
    "        counter[col] += row[col]"
   ]
  },
  {
   "cell_type": "code",
   "execution_count": 73,
   "metadata": {},
   "outputs": [
    {
     "data": {
      "text/plain": [
       "{'climate_change_COUNT': 296,\n",
       " 'global_warming_COUNT': 594,\n",
       " 'greenhouse_effect_COUNT': 101,\n",
       " 'acid_rain_COUNT': 88,\n",
       " 'ozone_layer_COUNT': 28,\n",
       " 'greenhouse_gases_COUNT': 244,\n",
       " 'fossil_fuels_COUNT': 135,\n",
       " 'greenhouse_emissions_COUNT': 25,\n",
       " 'ice_shelves_COUNT': 19,\n",
       " 'ice_sheets_COUNT': 25,\n",
       " 'rising_sea_COUNT': 16,\n",
       " 'sea_levels_COUNT': 53,\n",
       " 'kyoto_protocol_COUNT': 66,\n",
       " 'montreal_protocol_COUNT': 9,\n",
       " 'carbon_footprint_COUNT': 1,\n",
       " 'carbon_dioxide_COUNT': 961,\n",
       " 'carbon_neutral_COUNT': 4,\n",
       " 'emission_trading_COUNT': 3,\n",
       " 'global_dimming_COUNT': 0,\n",
       " 'renewable_energy_COUNT': 33}"
      ]
     },
     "execution_count": 73,
     "metadata": {},
     "output_type": "execute_result"
    }
   ],
   "source": [
    "counter"
   ]
  },
  {
   "cell_type": "code",
   "execution_count": 66,
   "metadata": {},
   "outputs": [],
   "source": [
    "# get number of keywords per article\n",
    "num_keywords = []\n",
    "for index, row in nyt.iterrows():\n",
    "    num = 0\n",
    "    for col in nyt.columns[53:-1]:\n",
    "        num += row[col]\n",
    "    num_keywords.append(num)"
   ]
  },
  {
   "cell_type": "code",
   "execution_count": 67,
   "metadata": {},
   "outputs": [
    {
     "data": {
      "text/plain": [
       "(20, 52)"
      ]
     },
     "execution_count": 67,
     "metadata": {},
     "output_type": "execute_result"
    }
   ],
   "source": [
    "min(num_keywords),max(num_keywords)"
   ]
  },
  {
   "cell_type": "code",
   "execution_count": 70,
   "metadata": {},
   "outputs": [
    {
     "data": {
      "text/plain": [
       "['carbon_footprint_COUNT',\n",
       " 'carbon_dioxide_COUNT',\n",
       " 'carbon_neutral_COUNT',\n",
       " 'acid_rain_COUNT',\n",
       " 'ice_shelves_COUNT',\n",
       " 'ice_sheets_COUNT',\n",
       " 'sea_levels_COUNT',\n",
       " 'renewable_energy_COUNT',\n",
       " 'rising_sea_COUNT',\n",
       " 'climate_change_COUNT',\n",
       " 'global_warming_COUNT',\n",
       " 'global_dimming_COUNT',\n",
       " 'emission_trading_COUNT',\n",
       " 'fossil_fuels_COUNT',\n",
       " 'montreal_protocol_COUNT',\n",
       " 'greenhouse_effect_COUNT',\n",
       " 'greenhouse_gases_COUNT',\n",
       " 'greenhouse_emissions_COUNT',\n",
       " 'kyoto_protocol_COUNT',\n",
       " 'ozone_layer_COUNT']"
      ]
     },
     "execution_count": 70,
     "metadata": {},
     "output_type": "execute_result"
    }
   ],
   "source": [
    "sorted(list(counter), key=lambda x:x[1])"
   ]
  },
  {
   "cell_type": "code",
   "execution_count": 76,
   "metadata": {},
   "outputs": [],
   "source": [
    "# turn counter into tuple so it can be sorted\n",
    "counter = [(k,v) for k,v in counter.items()]"
   ]
  },
  {
   "cell_type": "code",
   "execution_count": 81,
   "metadata": {},
   "outputs": [
    {
     "data": {
      "text/plain": [
       "[('carbon_dioxide_COUNT', 961),\n",
       " ('global_warming_COUNT', 594),\n",
       " ('climate_change_COUNT', 296),\n",
       " ('greenhouse_gases_COUNT', 244),\n",
       " ('fossil_fuels_COUNT', 135),\n",
       " ('greenhouse_effect_COUNT', 101),\n",
       " ('acid_rain_COUNT', 88),\n",
       " ('kyoto_protocol_COUNT', 66),\n",
       " ('sea_levels_COUNT', 53),\n",
       " ('renewable_energy_COUNT', 33),\n",
       " ('ozone_layer_COUNT', 28),\n",
       " ('greenhouse_emissions_COUNT', 25),\n",
       " ('ice_sheets_COUNT', 25),\n",
       " ('ice_shelves_COUNT', 19),\n",
       " ('rising_sea_COUNT', 16),\n",
       " ('montreal_protocol_COUNT', 9),\n",
       " ('carbon_neutral_COUNT', 4)]"
      ]
     },
     "execution_count": 81,
     "metadata": {},
     "output_type": "execute_result"
    }
   ],
   "source": [
    "sorted(counter, key=lambda x:x[1], reverse=True)[:17]"
   ]
  },
  {
   "cell_type": "code",
   "execution_count": 84,
   "metadata": {},
   "outputs": [],
   "source": [
    "keywords = [word[0].replace(\"_COUNT\",\"\") for word in sorted(counter, key=lambda x:x[1], reverse=True)[:17]]"
   ]
  },
  {
   "cell_type": "code",
   "execution_count": 85,
   "metadata": {},
   "outputs": [
    {
     "data": {
      "text/plain": [
       "['carbon_dioxide',\n",
       " 'global_warming',\n",
       " 'climate_change',\n",
       " 'greenhouse_gases',\n",
       " 'fossil_fuels',\n",
       " 'greenhouse_effect',\n",
       " 'acid_rain',\n",
       " 'kyoto_protocol',\n",
       " 'sea_levels',\n",
       " 'renewable_energy',\n",
       " 'ozone_layer',\n",
       " 'greenhouse_emissions',\n",
       " 'ice_sheets',\n",
       " 'ice_shelves',\n",
       " 'rising_sea',\n",
       " 'montreal_protocol',\n",
       " 'carbon_neutral']"
      ]
     },
     "execution_count": 85,
     "metadata": {},
     "output_type": "execute_result"
    }
   ],
   "source": [
    "keywords"
   ]
  },
  {
   "cell_type": "code",
   "execution_count": 86,
   "metadata": {},
   "outputs": [],
   "source": [
    "with open(\"data/resources/nyt_keywords.txt\", \"w\") as f:\n",
    "    for keyword in keywords:\n",
    "        f.write(keyword + \"\\n\")"
   ]
  },
  {
   "cell_type": "code",
   "execution_count": null,
   "metadata": {},
   "outputs": [],
   "source": []
  }
 ],
 "metadata": {
  "kernelspec": {
   "display_name": "Python 3",
   "language": "python",
   "name": "python3"
  },
  "language_info": {
   "codemirror_mode": {
    "name": "ipython",
    "version": 3
   },
   "file_extension": ".py",
   "mimetype": "text/x-python",
   "name": "python",
   "nbconvert_exporter": "python",
   "pygments_lexer": "ipython3",
   "version": "3.7.1"
  }
 },
 "nbformat": 4,
 "nbformat_minor": 2
}
